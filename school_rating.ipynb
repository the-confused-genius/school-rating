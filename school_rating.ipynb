{
  "nbformat": 4,
  "nbformat_minor": 0,
  "metadata": {
    "colab": {
      "name": "school rating.ipynb",
      "provenance": [],
      "collapsed_sections": [],
      "authorship_tag": "ABX9TyOp2nwHd9dQ0QRd6rrxYJAv",
      "include_colab_link": true
    },
    "kernelspec": {
      "name": "python3",
      "display_name": "Python 3"
    },
    "language_info": {
      "name": "python"
    }
  },
  "cells": [
    {
      "cell_type": "markdown",
      "metadata": {
        "id": "view-in-github",
        "colab_type": "text"
      },
      "source": [
        "<a href=\"https://colab.research.google.com/github/the-confused-genius/school-rating/blob/main/school_rating.ipynb\" target=\"_parent\"><img src=\"https://colab.research.google.com/assets/colab-badge.svg\" alt=\"Open In Colab\"/></a>"
      ]
    },
    {
      "cell_type": "markdown",
      "source": [
        "Problem Statement \n",
        "\n",
        "---\n",
        "\n",
        "\n",
        "You are a public school administrator. Some schools in your state of Tennessee are performing below average academically. Your superintendent seems to be under pressure from frustrated parents and the voters have appoached you with the task of finding out why these schools are under-performing. Now, to improve school performance, you need to learn more about these schools and their students, just as a business needs to understand its own strengths and weaknesses and its customers. The data includes various demographics, the school faculty, and income variables \n",
        "This can be achieved using exploratory data analysis techniques which further includes: \n",
        "1. Reading the data in pandas data frame,\n",
        "2. Describing the data to find more details \n",
        "3. Finding the correlation between 'reduced_lunch' and 'school_rating'\n",
        "4. Creating a Model that can predict the rating of the school depending on the given features of the school"
      ],
      "metadata": {
        "id": "ZY9r_5OR1S-h"
      }
    },
    {
      "cell_type": "code",
      "source": [
        "import pandas as pd\n",
        "import numpy as np\n",
        "import matplotlib.pyplot as plt\n",
        "import seaborn as sns \n",
        "import re \n",
        "from sklearn.linear_model import LinearRegression \n",
        "from sklearn.model_selection import train_test_split \n",
        "from sklearn.metrics import r2_score"
      ],
      "metadata": {
        "id": "Csiqt0qo6ChA"
      },
      "execution_count": null,
      "outputs": []
    },
    {
      "cell_type": "code",
      "execution_count": null,
      "metadata": {
        "colab": {
          "base_uri": "https://localhost:8080/",
          "height": 364
        },
        "id": "bM-qbNaJ1PWl",
        "outputId": "1e071a4b-92d6-40ca-f87f-875d53bb98e5"
      },
      "outputs": [
        {
          "output_type": "execute_result",
          "data": {
            "text/html": [
              "\n",
              "  <div id=\"df-a4e463b6-6e97-4f84-85c5-3bc6b62750ca\">\n",
              "    <div class=\"colab-df-container\">\n",
              "      <div>\n",
              "<style scoped>\n",
              "    .dataframe tbody tr th:only-of-type {\n",
              "        vertical-align: middle;\n",
              "    }\n",
              "\n",
              "    .dataframe tbody tr th {\n",
              "        vertical-align: top;\n",
              "    }\n",
              "\n",
              "    .dataframe thead th {\n",
              "        text-align: right;\n",
              "    }\n",
              "</style>\n",
              "<table border=\"1\" class=\"dataframe\">\n",
              "  <thead>\n",
              "    <tr style=\"text-align: right;\">\n",
              "      <th></th>\n",
              "      <th>school_rating</th>\n",
              "      <th>size</th>\n",
              "      <th>reduced_lunch</th>\n",
              "      <th>state_percentile_16</th>\n",
              "      <th>state_percentile_15</th>\n",
              "      <th>stu_teach_ratio</th>\n",
              "      <th>avg_score_15</th>\n",
              "      <th>avg_score_16</th>\n",
              "      <th>full_time_teachers</th>\n",
              "      <th>percent_black</th>\n",
              "      <th>percent_white</th>\n",
              "      <th>percent_asian</th>\n",
              "      <th>percent_hispanic</th>\n",
              "    </tr>\n",
              "  </thead>\n",
              "  <tbody>\n",
              "    <tr>\n",
              "      <th>count</th>\n",
              "      <td>347.000000</td>\n",
              "      <td>347.000000</td>\n",
              "      <td>347.000000</td>\n",
              "      <td>347.000000</td>\n",
              "      <td>341.000000</td>\n",
              "      <td>347.000000</td>\n",
              "      <td>341.000000</td>\n",
              "      <td>347.000000</td>\n",
              "      <td>347.000000</td>\n",
              "      <td>347.000000</td>\n",
              "      <td>347.000000</td>\n",
              "      <td>347.000000</td>\n",
              "      <td>347.000000</td>\n",
              "    </tr>\n",
              "    <tr>\n",
              "      <th>mean</th>\n",
              "      <td>2.968300</td>\n",
              "      <td>699.472622</td>\n",
              "      <td>50.279539</td>\n",
              "      <td>58.801729</td>\n",
              "      <td>58.249267</td>\n",
              "      <td>15.461671</td>\n",
              "      <td>57.004692</td>\n",
              "      <td>57.049856</td>\n",
              "      <td>44.939481</td>\n",
              "      <td>21.197983</td>\n",
              "      <td>61.673487</td>\n",
              "      <td>2.642651</td>\n",
              "      <td>11.164553</td>\n",
              "    </tr>\n",
              "    <tr>\n",
              "      <th>std</th>\n",
              "      <td>1.690377</td>\n",
              "      <td>400.598636</td>\n",
              "      <td>25.480236</td>\n",
              "      <td>32.540747</td>\n",
              "      <td>32.702630</td>\n",
              "      <td>5.725170</td>\n",
              "      <td>26.696450</td>\n",
              "      <td>27.968974</td>\n",
              "      <td>22.053386</td>\n",
              "      <td>23.562538</td>\n",
              "      <td>27.274859</td>\n",
              "      <td>3.109629</td>\n",
              "      <td>12.030608</td>\n",
              "    </tr>\n",
              "    <tr>\n",
              "      <th>min</th>\n",
              "      <td>0.000000</td>\n",
              "      <td>53.000000</td>\n",
              "      <td>2.000000</td>\n",
              "      <td>0.200000</td>\n",
              "      <td>0.600000</td>\n",
              "      <td>4.700000</td>\n",
              "      <td>1.500000</td>\n",
              "      <td>0.100000</td>\n",
              "      <td>2.000000</td>\n",
              "      <td>0.000000</td>\n",
              "      <td>1.100000</td>\n",
              "      <td>0.000000</td>\n",
              "      <td>0.000000</td>\n",
              "    </tr>\n",
              "    <tr>\n",
              "      <th>25%</th>\n",
              "      <td>2.000000</td>\n",
              "      <td>420.500000</td>\n",
              "      <td>30.000000</td>\n",
              "      <td>30.950000</td>\n",
              "      <td>27.100000</td>\n",
              "      <td>13.700000</td>\n",
              "      <td>37.600000</td>\n",
              "      <td>37.000000</td>\n",
              "      <td>30.000000</td>\n",
              "      <td>3.600000</td>\n",
              "      <td>40.600000</td>\n",
              "      <td>0.750000</td>\n",
              "      <td>3.800000</td>\n",
              "    </tr>\n",
              "    <tr>\n",
              "      <th>50%</th>\n",
              "      <td>3.000000</td>\n",
              "      <td>595.000000</td>\n",
              "      <td>51.000000</td>\n",
              "      <td>66.400000</td>\n",
              "      <td>65.800000</td>\n",
              "      <td>15.000000</td>\n",
              "      <td>61.800000</td>\n",
              "      <td>60.700000</td>\n",
              "      <td>40.000000</td>\n",
              "      <td>13.500000</td>\n",
              "      <td>68.700000</td>\n",
              "      <td>1.600000</td>\n",
              "      <td>6.400000</td>\n",
              "    </tr>\n",
              "    <tr>\n",
              "      <th>75%</th>\n",
              "      <td>4.000000</td>\n",
              "      <td>851.000000</td>\n",
              "      <td>71.500000</td>\n",
              "      <td>88.000000</td>\n",
              "      <td>88.600000</td>\n",
              "      <td>16.700000</td>\n",
              "      <td>79.600000</td>\n",
              "      <td>80.250000</td>\n",
              "      <td>54.000000</td>\n",
              "      <td>28.350000</td>\n",
              "      <td>85.950000</td>\n",
              "      <td>3.100000</td>\n",
              "      <td>13.800000</td>\n",
              "    </tr>\n",
              "    <tr>\n",
              "      <th>max</th>\n",
              "      <td>5.000000</td>\n",
              "      <td>2314.000000</td>\n",
              "      <td>98.000000</td>\n",
              "      <td>99.800000</td>\n",
              "      <td>99.800000</td>\n",
              "      <td>111.000000</td>\n",
              "      <td>99.000000</td>\n",
              "      <td>98.900000</td>\n",
              "      <td>140.000000</td>\n",
              "      <td>97.400000</td>\n",
              "      <td>99.700000</td>\n",
              "      <td>21.100000</td>\n",
              "      <td>65.200000</td>\n",
              "    </tr>\n",
              "  </tbody>\n",
              "</table>\n",
              "</div>\n",
              "      <button class=\"colab-df-convert\" onclick=\"convertToInteractive('df-a4e463b6-6e97-4f84-85c5-3bc6b62750ca')\"\n",
              "              title=\"Convert this dataframe to an interactive table.\"\n",
              "              style=\"display:none;\">\n",
              "        \n",
              "  <svg xmlns=\"http://www.w3.org/2000/svg\" height=\"24px\"viewBox=\"0 0 24 24\"\n",
              "       width=\"24px\">\n",
              "    <path d=\"M0 0h24v24H0V0z\" fill=\"none\"/>\n",
              "    <path d=\"M18.56 5.44l.94 2.06.94-2.06 2.06-.94-2.06-.94-.94-2.06-.94 2.06-2.06.94zm-11 1L8.5 8.5l.94-2.06 2.06-.94-2.06-.94L8.5 2.5l-.94 2.06-2.06.94zm10 10l.94 2.06.94-2.06 2.06-.94-2.06-.94-.94-2.06-.94 2.06-2.06.94z\"/><path d=\"M17.41 7.96l-1.37-1.37c-.4-.4-.92-.59-1.43-.59-.52 0-1.04.2-1.43.59L10.3 9.45l-7.72 7.72c-.78.78-.78 2.05 0 2.83L4 21.41c.39.39.9.59 1.41.59.51 0 1.02-.2 1.41-.59l7.78-7.78 2.81-2.81c.8-.78.8-2.07 0-2.86zM5.41 20L4 18.59l7.72-7.72 1.47 1.35L5.41 20z\"/>\n",
              "  </svg>\n",
              "      </button>\n",
              "      \n",
              "  <style>\n",
              "    .colab-df-container {\n",
              "      display:flex;\n",
              "      flex-wrap:wrap;\n",
              "      gap: 12px;\n",
              "    }\n",
              "\n",
              "    .colab-df-convert {\n",
              "      background-color: #E8F0FE;\n",
              "      border: none;\n",
              "      border-radius: 50%;\n",
              "      cursor: pointer;\n",
              "      display: none;\n",
              "      fill: #1967D2;\n",
              "      height: 32px;\n",
              "      padding: 0 0 0 0;\n",
              "      width: 32px;\n",
              "    }\n",
              "\n",
              "    .colab-df-convert:hover {\n",
              "      background-color: #E2EBFA;\n",
              "      box-shadow: 0px 1px 2px rgba(60, 64, 67, 0.3), 0px 1px 3px 1px rgba(60, 64, 67, 0.15);\n",
              "      fill: #174EA6;\n",
              "    }\n",
              "\n",
              "    [theme=dark] .colab-df-convert {\n",
              "      background-color: #3B4455;\n",
              "      fill: #D2E3FC;\n",
              "    }\n",
              "\n",
              "    [theme=dark] .colab-df-convert:hover {\n",
              "      background-color: #434B5C;\n",
              "      box-shadow: 0px 1px 3px 1px rgba(0, 0, 0, 0.15);\n",
              "      filter: drop-shadow(0px 1px 2px rgba(0, 0, 0, 0.3));\n",
              "      fill: #FFFFFF;\n",
              "    }\n",
              "  </style>\n",
              "\n",
              "      <script>\n",
              "        const buttonEl =\n",
              "          document.querySelector('#df-a4e463b6-6e97-4f84-85c5-3bc6b62750ca button.colab-df-convert');\n",
              "        buttonEl.style.display =\n",
              "          google.colab.kernel.accessAllowed ? 'block' : 'none';\n",
              "\n",
              "        async function convertToInteractive(key) {\n",
              "          const element = document.querySelector('#df-a4e463b6-6e97-4f84-85c5-3bc6b62750ca');\n",
              "          const dataTable =\n",
              "            await google.colab.kernel.invokeFunction('convertToInteractive',\n",
              "                                                     [key], {});\n",
              "          if (!dataTable) return;\n",
              "\n",
              "          const docLinkHtml = 'Like what you see? Visit the ' +\n",
              "            '<a target=\"_blank\" href=https://colab.research.google.com/notebooks/data_table.ipynb>data table notebook</a>'\n",
              "            + ' to learn more about interactive tables.';\n",
              "          element.innerHTML = '';\n",
              "          dataTable['output_type'] = 'display_data';\n",
              "          await google.colab.output.renderOutput(dataTable, element);\n",
              "          const docLink = document.createElement('div');\n",
              "          docLink.innerHTML = docLinkHtml;\n",
              "          element.appendChild(docLink);\n",
              "        }\n",
              "      </script>\n",
              "    </div>\n",
              "  </div>\n",
              "  "
            ],
            "text/plain": [
              "       school_rating         size  ...  percent_asian  percent_hispanic\n",
              "count     347.000000   347.000000  ...     347.000000        347.000000\n",
              "mean        2.968300   699.472622  ...       2.642651         11.164553\n",
              "std         1.690377   400.598636  ...       3.109629         12.030608\n",
              "min         0.000000    53.000000  ...       0.000000          0.000000\n",
              "25%         2.000000   420.500000  ...       0.750000          3.800000\n",
              "50%         3.000000   595.000000  ...       1.600000          6.400000\n",
              "75%         4.000000   851.000000  ...       3.100000         13.800000\n",
              "max         5.000000  2314.000000  ...      21.100000         65.200000\n",
              "\n",
              "[8 rows x 13 columns]"
            ]
          },
          "metadata": {},
          "execution_count": 2
        }
      ],
      "source": [
        "df = pd.read_csv('https://raw.githubusercontent.com/the-confused-genius/school-rating/main/middle_tn_schools.csv')\n",
        "df.describe()"
      ]
    },
    {
      "cell_type": "markdown",
      "source": [
        "Finding the correlation between reduced lunch and school rating"
      ],
      "metadata": {
        "id": "4c55Oo_z_RsO"
      }
    },
    {
      "cell_type": "code",
      "source": [
        "df[['reduced_lunch','school_rating']].groupby(['school_rating']).describe().unstack()"
      ],
      "metadata": {
        "colab": {
          "base_uri": "https://localhost:8080/"
        },
        "id": "K_blzFaO42ek",
        "outputId": "0962fb47-f66e-4caf-d6d2-b54f210f98df"
      },
      "execution_count": null,
      "outputs": [
        {
          "output_type": "execute_result",
          "data": {
            "text/plain": [
              "                      school_rating\n",
              "reduced_lunch  count  0.0              43.000000\n",
              "                      1.0              40.000000\n",
              "                      2.0              44.000000\n",
              "                      3.0              56.000000\n",
              "                      4.0              86.000000\n",
              "                      5.0              78.000000\n",
              "               mean   0.0              83.581395\n",
              "                      1.0              74.950000\n",
              "                      2.0              64.272727\n",
              "                      3.0              50.285714\n",
              "                      4.0              41.000000\n",
              "                      5.0              21.602564\n",
              "               std    0.0               8.813498\n",
              "                      1.0              11.644191\n",
              "                      2.0              11.956051\n",
              "                      3.0              13.550866\n",
              "                      4.0              16.681092\n",
              "                      5.0              17.651268\n",
              "               min    0.0              53.000000\n",
              "                      1.0              53.000000\n",
              "                      2.0              37.000000\n",
              "                      3.0              24.000000\n",
              "                      4.0               4.000000\n",
              "                      5.0               2.000000\n",
              "               25%    0.0              79.500000\n",
              "                      1.0              65.000000\n",
              "                      2.0              54.750000\n",
              "                      3.0              41.000000\n",
              "                      4.0              30.000000\n",
              "                      5.0               8.000000\n",
              "               50%    0.0              86.000000\n",
              "                      1.0              74.500000\n",
              "                      2.0              62.500000\n",
              "                      3.0              48.500000\n",
              "                      4.0              41.500000\n",
              "                      5.0              19.000000\n",
              "               75%    0.0              90.000000\n",
              "                      1.0              84.250000\n",
              "                      2.0              74.000000\n",
              "                      3.0              63.000000\n",
              "                      4.0              50.000000\n",
              "                      5.0              29.750000\n",
              "               max    0.0              98.000000\n",
              "                      1.0              98.000000\n",
              "                      2.0              88.000000\n",
              "                      3.0              78.000000\n",
              "                      4.0              87.000000\n",
              "                      5.0              87.000000\n",
              "dtype: float64"
            ]
          },
          "metadata": {},
          "execution_count": 3
        }
      ]
    },
    {
      "cell_type": "code",
      "source": [
        "df[['reduced_lunch','school_rating']].corr()"
      ],
      "metadata": {
        "colab": {
          "base_uri": "https://localhost:8080/",
          "height": 112
        },
        "id": "BzdtRfw65WTo",
        "outputId": "2efdefbe-fdab-4c03-f726-afe5baf0f476"
      },
      "execution_count": null,
      "outputs": [
        {
          "output_type": "execute_result",
          "data": {
            "text/html": [
              "\n",
              "  <div id=\"df-ab196316-b868-446c-b584-2b9de8d37a35\">\n",
              "    <div class=\"colab-df-container\">\n",
              "      <div>\n",
              "<style scoped>\n",
              "    .dataframe tbody tr th:only-of-type {\n",
              "        vertical-align: middle;\n",
              "    }\n",
              "\n",
              "    .dataframe tbody tr th {\n",
              "        vertical-align: top;\n",
              "    }\n",
              "\n",
              "    .dataframe thead th {\n",
              "        text-align: right;\n",
              "    }\n",
              "</style>\n",
              "<table border=\"1\" class=\"dataframe\">\n",
              "  <thead>\n",
              "    <tr style=\"text-align: right;\">\n",
              "      <th></th>\n",
              "      <th>reduced_lunch</th>\n",
              "      <th>school_rating</th>\n",
              "    </tr>\n",
              "  </thead>\n",
              "  <tbody>\n",
              "    <tr>\n",
              "      <th>reduced_lunch</th>\n",
              "      <td>1.000000</td>\n",
              "      <td>-0.815757</td>\n",
              "    </tr>\n",
              "    <tr>\n",
              "      <th>school_rating</th>\n",
              "      <td>-0.815757</td>\n",
              "      <td>1.000000</td>\n",
              "    </tr>\n",
              "  </tbody>\n",
              "</table>\n",
              "</div>\n",
              "      <button class=\"colab-df-convert\" onclick=\"convertToInteractive('df-ab196316-b868-446c-b584-2b9de8d37a35')\"\n",
              "              title=\"Convert this dataframe to an interactive table.\"\n",
              "              style=\"display:none;\">\n",
              "        \n",
              "  <svg xmlns=\"http://www.w3.org/2000/svg\" height=\"24px\"viewBox=\"0 0 24 24\"\n",
              "       width=\"24px\">\n",
              "    <path d=\"M0 0h24v24H0V0z\" fill=\"none\"/>\n",
              "    <path d=\"M18.56 5.44l.94 2.06.94-2.06 2.06-.94-2.06-.94-.94-2.06-.94 2.06-2.06.94zm-11 1L8.5 8.5l.94-2.06 2.06-.94-2.06-.94L8.5 2.5l-.94 2.06-2.06.94zm10 10l.94 2.06.94-2.06 2.06-.94-2.06-.94-.94-2.06-.94 2.06-2.06.94z\"/><path d=\"M17.41 7.96l-1.37-1.37c-.4-.4-.92-.59-1.43-.59-.52 0-1.04.2-1.43.59L10.3 9.45l-7.72 7.72c-.78.78-.78 2.05 0 2.83L4 21.41c.39.39.9.59 1.41.59.51 0 1.02-.2 1.41-.59l7.78-7.78 2.81-2.81c.8-.78.8-2.07 0-2.86zM5.41 20L4 18.59l7.72-7.72 1.47 1.35L5.41 20z\"/>\n",
              "  </svg>\n",
              "      </button>\n",
              "      \n",
              "  <style>\n",
              "    .colab-df-container {\n",
              "      display:flex;\n",
              "      flex-wrap:wrap;\n",
              "      gap: 12px;\n",
              "    }\n",
              "\n",
              "    .colab-df-convert {\n",
              "      background-color: #E8F0FE;\n",
              "      border: none;\n",
              "      border-radius: 50%;\n",
              "      cursor: pointer;\n",
              "      display: none;\n",
              "      fill: #1967D2;\n",
              "      height: 32px;\n",
              "      padding: 0 0 0 0;\n",
              "      width: 32px;\n",
              "    }\n",
              "\n",
              "    .colab-df-convert:hover {\n",
              "      background-color: #E2EBFA;\n",
              "      box-shadow: 0px 1px 2px rgba(60, 64, 67, 0.3), 0px 1px 3px 1px rgba(60, 64, 67, 0.15);\n",
              "      fill: #174EA6;\n",
              "    }\n",
              "\n",
              "    [theme=dark] .colab-df-convert {\n",
              "      background-color: #3B4455;\n",
              "      fill: #D2E3FC;\n",
              "    }\n",
              "\n",
              "    [theme=dark] .colab-df-convert:hover {\n",
              "      background-color: #434B5C;\n",
              "      box-shadow: 0px 1px 3px 1px rgba(0, 0, 0, 0.15);\n",
              "      filter: drop-shadow(0px 1px 2px rgba(0, 0, 0, 0.3));\n",
              "      fill: #FFFFFF;\n",
              "    }\n",
              "  </style>\n",
              "\n",
              "      <script>\n",
              "        const buttonEl =\n",
              "          document.querySelector('#df-ab196316-b868-446c-b584-2b9de8d37a35 button.colab-df-convert');\n",
              "        buttonEl.style.display =\n",
              "          google.colab.kernel.accessAllowed ? 'block' : 'none';\n",
              "\n",
              "        async function convertToInteractive(key) {\n",
              "          const element = document.querySelector('#df-ab196316-b868-446c-b584-2b9de8d37a35');\n",
              "          const dataTable =\n",
              "            await google.colab.kernel.invokeFunction('convertToInteractive',\n",
              "                                                     [key], {});\n",
              "          if (!dataTable) return;\n",
              "\n",
              "          const docLinkHtml = 'Like what you see? Visit the ' +\n",
              "            '<a target=\"_blank\" href=https://colab.research.google.com/notebooks/data_table.ipynb>data table notebook</a>'\n",
              "            + ' to learn more about interactive tables.';\n",
              "          element.innerHTML = '';\n",
              "          dataTable['output_type'] = 'display_data';\n",
              "          await google.colab.output.renderOutput(dataTable, element);\n",
              "          const docLink = document.createElement('div');\n",
              "          docLink.innerHTML = docLinkHtml;\n",
              "          element.appendChild(docLink);\n",
              "        }\n",
              "      </script>\n",
              "    </div>\n",
              "  </div>\n",
              "  "
            ],
            "text/plain": [
              "               reduced_lunch  school_rating\n",
              "reduced_lunch       1.000000      -0.815757\n",
              "school_rating      -0.815757       1.000000"
            ]
          },
          "metadata": {},
          "execution_count": 4
        }
      ]
    },
    {
      "cell_type": "markdown",
      "source": [
        "Data preprossesing, converting the string values to int, while keeping their meaning"
      ],
      "metadata": {
        "id": "N7xbJjos-lJW"
      }
    },
    {
      "cell_type": "code",
      "source": [
        "print(df.school_type.value_counts())  #checking for the different types of values"
      ],
      "metadata": {
        "colab": {
          "base_uri": "https://localhost:8080/"
        },
        "id": "m95SzPbz5lss",
        "outputId": "a84ae988-1953-4f25-b59c-e4d43e4f86c2"
      },
      "execution_count": null,
      "outputs": [
        {
          "output_type": "stream",
          "name": "stdout",
          "text": [
            "Public            292\n",
            "Public Magnet      46\n",
            "Public Charter      8\n",
            "Public Virtual      1\n",
            "Name: school_type, dtype: int64\n"
          ]
        }
      ]
    },
    {
      "cell_type": "code",
      "source": [
        "df.school_type = df.school_type.replace(to_replace = 'Public',value = 0)\n",
        "df.school_type = df.school_type.replace(to_replace = 'Public Magnet',value = 1)\n",
        "df.school_type = df.school_type.replace(to_replace = 'Public Charter',value =2)\n",
        "df.school_type = df.school_type.replace(to_replace = 'Public Virtual',value =3)"
      ],
      "metadata": {
        "id": "_cc66uyO6hh2"
      },
      "execution_count": null,
      "outputs": []
    },
    {
      "cell_type": "code",
      "source": [
        "df.head()"
      ],
      "metadata": {
        "colab": {
          "base_uri": "https://localhost:8080/",
          "height": 374
        },
        "id": "M2KSYKaN68Ke",
        "outputId": "f2152bc4-54e8-4fff-e2da-685d4d48938b"
      },
      "execution_count": null,
      "outputs": [
        {
          "output_type": "execute_result",
          "data": {
            "text/html": [
              "\n",
              "  <div id=\"df-118c89d4-1933-4d63-9343-e0df1f922fee\">\n",
              "    <div class=\"colab-df-container\">\n",
              "      <div>\n",
              "<style scoped>\n",
              "    .dataframe tbody tr th:only-of-type {\n",
              "        vertical-align: middle;\n",
              "    }\n",
              "\n",
              "    .dataframe tbody tr th {\n",
              "        vertical-align: top;\n",
              "    }\n",
              "\n",
              "    .dataframe thead th {\n",
              "        text-align: right;\n",
              "    }\n",
              "</style>\n",
              "<table border=\"1\" class=\"dataframe\">\n",
              "  <thead>\n",
              "    <tr style=\"text-align: right;\">\n",
              "      <th></th>\n",
              "      <th>name</th>\n",
              "      <th>school_rating</th>\n",
              "      <th>size</th>\n",
              "      <th>reduced_lunch</th>\n",
              "      <th>state_percentile_16</th>\n",
              "      <th>state_percentile_15</th>\n",
              "      <th>stu_teach_ratio</th>\n",
              "      <th>school_type</th>\n",
              "      <th>avg_score_15</th>\n",
              "      <th>avg_score_16</th>\n",
              "      <th>full_time_teachers</th>\n",
              "      <th>percent_black</th>\n",
              "      <th>percent_white</th>\n",
              "      <th>percent_asian</th>\n",
              "      <th>percent_hispanic</th>\n",
              "    </tr>\n",
              "  </thead>\n",
              "  <tbody>\n",
              "    <tr>\n",
              "      <th>0</th>\n",
              "      <td>Allendale Elementary School</td>\n",
              "      <td>5.0</td>\n",
              "      <td>851.0</td>\n",
              "      <td>10.0</td>\n",
              "      <td>90.2</td>\n",
              "      <td>95.8</td>\n",
              "      <td>15.7</td>\n",
              "      <td>0</td>\n",
              "      <td>89.4</td>\n",
              "      <td>85.2</td>\n",
              "      <td>54.0</td>\n",
              "      <td>2.9</td>\n",
              "      <td>85.5</td>\n",
              "      <td>1.6</td>\n",
              "      <td>5.6</td>\n",
              "    </tr>\n",
              "    <tr>\n",
              "      <th>1</th>\n",
              "      <td>Anderson Elementary</td>\n",
              "      <td>2.0</td>\n",
              "      <td>412.0</td>\n",
              "      <td>71.0</td>\n",
              "      <td>32.8</td>\n",
              "      <td>37.3</td>\n",
              "      <td>12.8</td>\n",
              "      <td>0</td>\n",
              "      <td>43.0</td>\n",
              "      <td>38.3</td>\n",
              "      <td>32.0</td>\n",
              "      <td>3.9</td>\n",
              "      <td>86.7</td>\n",
              "      <td>1.0</td>\n",
              "      <td>4.9</td>\n",
              "    </tr>\n",
              "    <tr>\n",
              "      <th>2</th>\n",
              "      <td>Avoca Elementary</td>\n",
              "      <td>4.0</td>\n",
              "      <td>482.0</td>\n",
              "      <td>43.0</td>\n",
              "      <td>78.4</td>\n",
              "      <td>83.6</td>\n",
              "      <td>16.6</td>\n",
              "      <td>0</td>\n",
              "      <td>75.7</td>\n",
              "      <td>73.0</td>\n",
              "      <td>29.0</td>\n",
              "      <td>1.0</td>\n",
              "      <td>91.5</td>\n",
              "      <td>1.2</td>\n",
              "      <td>4.4</td>\n",
              "    </tr>\n",
              "    <tr>\n",
              "      <th>3</th>\n",
              "      <td>Bailey Middle</td>\n",
              "      <td>0.0</td>\n",
              "      <td>394.0</td>\n",
              "      <td>91.0</td>\n",
              "      <td>1.6</td>\n",
              "      <td>1.0</td>\n",
              "      <td>13.1</td>\n",
              "      <td>1</td>\n",
              "      <td>2.1</td>\n",
              "      <td>4.4</td>\n",
              "      <td>30.0</td>\n",
              "      <td>80.7</td>\n",
              "      <td>11.7</td>\n",
              "      <td>2.3</td>\n",
              "      <td>4.3</td>\n",
              "    </tr>\n",
              "    <tr>\n",
              "      <th>4</th>\n",
              "      <td>Barfield Elementary</td>\n",
              "      <td>4.0</td>\n",
              "      <td>948.0</td>\n",
              "      <td>26.0</td>\n",
              "      <td>85.3</td>\n",
              "      <td>89.2</td>\n",
              "      <td>14.8</td>\n",
              "      <td>0</td>\n",
              "      <td>81.3</td>\n",
              "      <td>79.6</td>\n",
              "      <td>64.0</td>\n",
              "      <td>11.8</td>\n",
              "      <td>71.2</td>\n",
              "      <td>7.1</td>\n",
              "      <td>6.0</td>\n",
              "    </tr>\n",
              "  </tbody>\n",
              "</table>\n",
              "</div>\n",
              "      <button class=\"colab-df-convert\" onclick=\"convertToInteractive('df-118c89d4-1933-4d63-9343-e0df1f922fee')\"\n",
              "              title=\"Convert this dataframe to an interactive table.\"\n",
              "              style=\"display:none;\">\n",
              "        \n",
              "  <svg xmlns=\"http://www.w3.org/2000/svg\" height=\"24px\"viewBox=\"0 0 24 24\"\n",
              "       width=\"24px\">\n",
              "    <path d=\"M0 0h24v24H0V0z\" fill=\"none\"/>\n",
              "    <path d=\"M18.56 5.44l.94 2.06.94-2.06 2.06-.94-2.06-.94-.94-2.06-.94 2.06-2.06.94zm-11 1L8.5 8.5l.94-2.06 2.06-.94-2.06-.94L8.5 2.5l-.94 2.06-2.06.94zm10 10l.94 2.06.94-2.06 2.06-.94-2.06-.94-.94-2.06-.94 2.06-2.06.94z\"/><path d=\"M17.41 7.96l-1.37-1.37c-.4-.4-.92-.59-1.43-.59-.52 0-1.04.2-1.43.59L10.3 9.45l-7.72 7.72c-.78.78-.78 2.05 0 2.83L4 21.41c.39.39.9.59 1.41.59.51 0 1.02-.2 1.41-.59l7.78-7.78 2.81-2.81c.8-.78.8-2.07 0-2.86zM5.41 20L4 18.59l7.72-7.72 1.47 1.35L5.41 20z\"/>\n",
              "  </svg>\n",
              "      </button>\n",
              "      \n",
              "  <style>\n",
              "    .colab-df-container {\n",
              "      display:flex;\n",
              "      flex-wrap:wrap;\n",
              "      gap: 12px;\n",
              "    }\n",
              "\n",
              "    .colab-df-convert {\n",
              "      background-color: #E8F0FE;\n",
              "      border: none;\n",
              "      border-radius: 50%;\n",
              "      cursor: pointer;\n",
              "      display: none;\n",
              "      fill: #1967D2;\n",
              "      height: 32px;\n",
              "      padding: 0 0 0 0;\n",
              "      width: 32px;\n",
              "    }\n",
              "\n",
              "    .colab-df-convert:hover {\n",
              "      background-color: #E2EBFA;\n",
              "      box-shadow: 0px 1px 2px rgba(60, 64, 67, 0.3), 0px 1px 3px 1px rgba(60, 64, 67, 0.15);\n",
              "      fill: #174EA6;\n",
              "    }\n",
              "\n",
              "    [theme=dark] .colab-df-convert {\n",
              "      background-color: #3B4455;\n",
              "      fill: #D2E3FC;\n",
              "    }\n",
              "\n",
              "    [theme=dark] .colab-df-convert:hover {\n",
              "      background-color: #434B5C;\n",
              "      box-shadow: 0px 1px 3px 1px rgba(0, 0, 0, 0.15);\n",
              "      filter: drop-shadow(0px 1px 2px rgba(0, 0, 0, 0.3));\n",
              "      fill: #FFFFFF;\n",
              "    }\n",
              "  </style>\n",
              "\n",
              "      <script>\n",
              "        const buttonEl =\n",
              "          document.querySelector('#df-118c89d4-1933-4d63-9343-e0df1f922fee button.colab-df-convert');\n",
              "        buttonEl.style.display =\n",
              "          google.colab.kernel.accessAllowed ? 'block' : 'none';\n",
              "\n",
              "        async function convertToInteractive(key) {\n",
              "          const element = document.querySelector('#df-118c89d4-1933-4d63-9343-e0df1f922fee');\n",
              "          const dataTable =\n",
              "            await google.colab.kernel.invokeFunction('convertToInteractive',\n",
              "                                                     [key], {});\n",
              "          if (!dataTable) return;\n",
              "\n",
              "          const docLinkHtml = 'Like what you see? Visit the ' +\n",
              "            '<a target=\"_blank\" href=https://colab.research.google.com/notebooks/data_table.ipynb>data table notebook</a>'\n",
              "            + ' to learn more about interactive tables.';\n",
              "          element.innerHTML = '';\n",
              "          dataTable['output_type'] = 'display_data';\n",
              "          await google.colab.output.renderOutput(dataTable, element);\n",
              "          const docLink = document.createElement('div');\n",
              "          docLink.innerHTML = docLinkHtml;\n",
              "          element.appendChild(docLink);\n",
              "        }\n",
              "      </script>\n",
              "    </div>\n",
              "  </div>\n",
              "  "
            ],
            "text/plain": [
              "                          name  school_rating  ...  percent_asian  percent_hispanic\n",
              "0  Allendale Elementary School            5.0  ...            1.6               5.6\n",
              "1          Anderson Elementary            2.0  ...            1.0               4.9\n",
              "2             Avoca Elementary            4.0  ...            1.2               4.4\n",
              "3                Bailey Middle            0.0  ...            2.3               4.3\n",
              "4          Barfield Elementary            4.0  ...            7.1               6.0\n",
              "\n",
              "[5 rows x 15 columns]"
            ]
          },
          "metadata": {},
          "execution_count": 7
        }
      ]
    },
    {
      "cell_type": "code",
      "source": [
        "df.isnull().sum() #checking for null values"
      ],
      "metadata": {
        "colab": {
          "base_uri": "https://localhost:8080/"
        },
        "id": "GutPxT8q9SpO",
        "outputId": "abf2080e-6d86-491c-9e27-ab7d45e3b811"
      },
      "execution_count": null,
      "outputs": [
        {
          "output_type": "execute_result",
          "data": {
            "text/plain": [
              "name                   0\n",
              "school_rating          0\n",
              "size                   0\n",
              "reduced_lunch          0\n",
              "state_percentile_16    0\n",
              "state_percentile_15    6\n",
              "stu_teach_ratio        0\n",
              "school_type            0\n",
              "avg_score_15           6\n",
              "avg_score_16           0\n",
              "full_time_teachers     0\n",
              "percent_black          0\n",
              "percent_white          0\n",
              "percent_asian          0\n",
              "percent_hispanic       0\n",
              "dtype: int64"
            ]
          },
          "metadata": {},
          "execution_count": 8
        }
      ]
    },
    {
      "cell_type": "code",
      "source": [
        "df.info()"
      ],
      "metadata": {
        "colab": {
          "base_uri": "https://localhost:8080/"
        },
        "id": "mNJou93v7ySQ",
        "outputId": "d94f255c-0756-467a-94ee-20a2c3791954"
      },
      "execution_count": null,
      "outputs": [
        {
          "output_type": "stream",
          "name": "stdout",
          "text": [
            "<class 'pandas.core.frame.DataFrame'>\n",
            "RangeIndex: 347 entries, 0 to 346\n",
            "Data columns (total 15 columns):\n",
            " #   Column               Non-Null Count  Dtype  \n",
            "---  ------               --------------  -----  \n",
            " 0   name                 347 non-null    object \n",
            " 1   school_rating        347 non-null    float64\n",
            " 2   size                 347 non-null    float64\n",
            " 3   reduced_lunch        347 non-null    float64\n",
            " 4   state_percentile_16  347 non-null    float64\n",
            " 5   state_percentile_15  341 non-null    float64\n",
            " 6   stu_teach_ratio      347 non-null    float64\n",
            " 7   school_type          347 non-null    int64  \n",
            " 8   avg_score_15         341 non-null    float64\n",
            " 9   avg_score_16         347 non-null    float64\n",
            " 10  full_time_teachers   347 non-null    float64\n",
            " 11  percent_black        347 non-null    float64\n",
            " 12  percent_white        347 non-null    float64\n",
            " 13  percent_asian        347 non-null    float64\n",
            " 14  percent_hispanic     347 non-null    float64\n",
            "dtypes: float64(13), int64(1), object(1)\n",
            "memory usage: 40.8+ KB\n"
          ]
        }
      ]
    },
    {
      "cell_type": "code",
      "source": [
        "x = df[['size',\t'reduced_lunch',\t'state_percentile_16','stu_teach_ratio',\t'school_type',\t'avg_score_16',\t'full_time_teachers',\t'percent_black',\t'percent_white',\t'percent_asian',\t'percent_hispanic']]\n",
        "y = df['school_rating']"
      ],
      "metadata": {
        "id": "5BSaoXyd6-_d"
      },
      "execution_count": null,
      "outputs": []
    },
    {
      "cell_type": "code",
      "source": [
        "model = LinearRegression()"
      ],
      "metadata": {
        "id": "FVlWmUMl72ky"
      },
      "execution_count": null,
      "outputs": []
    },
    {
      "cell_type": "code",
      "source": [
        "x_train, x_test, y_train, y_test = train_test_split(x,y)"
      ],
      "metadata": {
        "id": "n28HGz5v8S4m"
      },
      "execution_count": null,
      "outputs": []
    },
    {
      "cell_type": "code",
      "source": [
        "model.fit(x_train,y_train)"
      ],
      "metadata": {
        "colab": {
          "base_uri": "https://localhost:8080/"
        },
        "id": "2n5rnC1M8-o7",
        "outputId": "79086f7c-8259-4bd3-f92e-477be6c9263c"
      },
      "execution_count": null,
      "outputs": [
        {
          "output_type": "execute_result",
          "data": {
            "text/plain": [
              "LinearRegression()"
            ]
          },
          "metadata": {},
          "execution_count": 13
        }
      ]
    },
    {
      "cell_type": "code",
      "source": [
        "y_pred = model.predict(x_test)"
      ],
      "metadata": {
        "id": "50WGQmLB-GfD"
      },
      "execution_count": null,
      "outputs": []
    },
    {
      "cell_type": "code",
      "source": [
        "print(\"The accuracy of the model is \" + str(r2_score(y_test,y_pred)*100) + \" %\")"
      ],
      "metadata": {
        "colab": {
          "base_uri": "https://localhost:8080/"
        },
        "id": "PY2eKCB9-J4b",
        "outputId": "79360e59-bff0-4994-89a6-d73792e928f0"
      },
      "execution_count": null,
      "outputs": [
        {
          "output_type": "stream",
          "name": "stdout",
          "text": [
            "The accuracy of the model is 97.46266948911573 %\n"
          ]
        }
      ]
    }
  ]
}